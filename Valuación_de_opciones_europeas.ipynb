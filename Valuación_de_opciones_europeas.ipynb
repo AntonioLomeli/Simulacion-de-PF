{
  "cells": [
    {
      "cell_type": "markdown",
      "id": "15cfe709",
      "metadata": {
        "id": "15cfe709"
      },
      "source": [
        "## Modelo de Monte Carlo para la valuación de opciones europeas\n",
        "\n",
        "#### _European Option Pricing with Montecarlo_\n",
        "\n",
        "\n",
        "\n",
        "#### Ventajas y limitaciones del enfoque de Monte Carlo\n",
        "\n",
        "#### Ventajas:\n",
        "\n",
        "- Flexibilidad: el modelo de Monte Carlo es aplicable a una amplia variedad de opciones y activos subyacentes, incluyendo opciones personalizadas que sean más difíciles de adaptar desde Black-Scholes.\n",
        "\n",
        "\n",
        "#### Limitaciones:\n",
        "\n",
        "- Tiempo de cálculo: a medida que aumenta el número de simulaciones, el tiempo de cálculo también aumenta.\n",
        "- Precisión: el valor estimado de la opción puede tener cierta variabilidad debido al carácter aleatorio de las simulaciones.\n",
        "\n",
        "### Matemáticas necesarias\n",
        "\n",
        "Puedes valuar una opción sin utilizar el modelo de Black-Scholes y en su lugar para simular el precio del activo subyacente en diferentes momentos, utilizar la ecuación de Movimiento Geométrico Browniano [_(Geometric Brownian Motion)_](https://en.wikipedia.org/wiki/Geometric_Brownian_motion), que se define como:\n",
        "\n",
        "$$\n",
        "S_t = S_0 \\cdot e^{(r - \\frac{\\sigma^2}{2})t + \\sigma\\sqrt{t}Z}\n",
        "$$\n",
        "\n",
        "\n",
        "Donde:\n",
        "\n",
        "$S_t$: Precio del activo subyacente en el tiempo $t$\n",
        "\n",
        "$S_0$: Precio inicial del activo subyacente\n",
        "\n",
        "$r$: Tasa de interés libre de riesgo\n",
        "\n",
        "$\\sigma$: Volatilidad del activo subyacente\n",
        "\n",
        "$t$: Tiempo\n",
        "\n",
        "$Z$: Variable aleatoria normal estándar (con media 0 y desviación estándar 1)"
      ]
    },
    {
      "cell_type": "markdown",
      "id": "e1213a64",
      "metadata": {
        "id": "e1213a64"
      },
      "source": [
        "A continuación, calculamos el valor esperado del pago (valor intrínseco) de la opción en cada trayectoria simulada y descontamos el valor a la fecha presente utilizando la tasa de interés libre de riesgo."
      ]
    },
    {
      "cell_type": "markdown",
      "id": "1bb7d6cc",
      "metadata": {
        "id": "1bb7d6cc"
      },
      "source": [
        "Para una opción europea call, el valor intrínseco es:\n",
        "\n",
        "$ C_T = max(S_T − K,0) $\n",
        "\n",
        "Para una opción europea put, el valor intrínseco es:\n",
        "\n",
        "$ P_T = max(K - S_T,0) $\n",
        "\n",
        "Donde $K$ es el precio strike de la opción.\n",
        "\n",
        "El valor esperado de la opción se calcula como la media de los pagos descontados de todas las trayectorias simuladas y se expresa como:\n",
        "\n",
        "$$\n",
        "C_0 = e^{-rT} \\cdot \\frac{1}{N} \\sum_{i=1}^{N} C_{T,i}\n",
        "$$\n",
        "\n",
        "\n",
        "$$\n",
        "P_0 = e^{-rT} \\cdot \\frac{1}{N} \\sum_{i=1}^{N} P_{T,i}\n",
        "$$\n"
      ]
    },
    {
      "cell_type": "markdown",
      "id": "6bfdf42a",
      "metadata": {
        "id": "6bfdf42a"
      },
      "source": [
        "**Donde:**\n",
        "\n",
        "**$C_0$ y $P_0$:** Valor presente de la opción de compra y de venta, respectivamente.\n",
        "\n",
        "**$T$:** Tiempo hasta el vencimiento de la opción.\n",
        "\n",
        "**$N$:** Número de trayectorias simuladas.\n",
        "\n",
        "**$C_{T,i}$ y $P_{T,i}$:** Pago de la opción de compra y de venta en la trayectoria $i$, respectivamente.\n",
        "\n",
        "$r$: tasa libre de riesgo\n",
        "\n",
        "##### Pequeña explicación\n",
        "Estas fórmulas representan el precio actual (también conocido como valor presente) de una cartera de opciones de compra (C) y de venta (P), respectivamente. La estructura de ambas fórmulas es muy similar, y ambas tienen en cuenta el valor presente de los flujos de efectivo futuros.\n",
        "\n",
        "\n",
        "Para entender mejor cada elemento de las ecuaciones, vamos a desglosarlas:\n",
        "\n",
        "$C_0$ y $P_0$: estos son los precios actuales de las carteras de opciones de compra y de venta, respectivamente. Se calculan a partir del valor presente de los flujos de efectivo futuros.\n",
        "\n",
        "$e^{-rT}$: esta es la tasa de descuento, necesaria para convertir a valor presente el valor de las opciones al vencimiento. r es la tasa de interés libre de riesgo, y T es el tiempo en años que falta para el vencimiento de las opciones.\n",
        "\n",
        "$\\frac{1}{N} \\sum_{i=1}^{N} C_{T,i}$ y $\\frac{1}{N} \\sum_{i=1}^{N} P_{T,i}$: estas son las medias aritméticas de los precios de las opciones de compra y de venta que forman la cartera. Cada $C_{T,i}$ y $P_{T,i}$ representa el precio de una opción individual en el momento T.\n"
      ]
    },
    {
      "cell_type": "markdown",
      "id": "935fa909",
      "metadata": {
        "id": "935fa909"
      },
      "source": [
        "Ahora, implementemos esto en Python y usemos gráficas para visualizar los resultados."
      ]
    },
    {
      "cell_type": "markdown",
      "id": "43651feb",
      "metadata": {
        "id": "43651feb"
      },
      "source": [
        "**Importación de las bibliotecas necesarias**"
      ]
    },
    {
      "cell_type": "code",
      "execution_count": 3,
      "id": "e39453be",
      "metadata": {
        "id": "e39453be"
      },
      "outputs": [],
      "source": [
        "import numpy as np\n",
        "import pandas as pd\n",
        "import yfinance as yf\n",
        "import matplotlib.pyplot as plt"
      ]
    },
    {
      "cell_type": "markdown",
      "id": "6e750702",
      "metadata": {
        "id": "6e750702"
      },
      "source": [
        "**Importación de los datos necesarios**"
      ]
    },
    {
      "cell_type": "code",
      "execution_count": 4,
      "id": "a70ac457",
      "metadata": {
        "colab": {
          "base_uri": "https://localhost:8080/"
        },
        "id": "a70ac457",
        "outputId": "bfdef237-ab51-4ddd-abd4-39af4773b3af"
      },
      "outputs": [
        {
          "name": "stderr",
          "output_type": "stream",
          "text": [
            "[*********************100%%**********************]  1 of 1 completed\n"
          ]
        }
      ],
      "source": [
        "ticker = 'SPY'  # Ticker de ETF SP500\n",
        "data = yf.download(ticker, start='2022-01-01', end='2024-01-01')['Adj Close']"
      ]
    },
    {
      "cell_type": "code",
      "execution_count": 5,
      "id": "0ea9517c",
      "metadata": {
        "colab": {
          "base_uri": "https://localhost:8080/"
        },
        "id": "0ea9517c",
        "outputId": "59cb19a9-a19f-4ccf-8c2b-92679ea4835d"
      },
      "outputs": [
        {
          "data": {
            "text/plain": [
              "Date\n",
              "2022-01-03    463.046051\n",
              "2022-01-04    462.890900\n",
              "2022-01-05    454.002411\n",
              "2022-01-06    453.575897\n",
              "2022-01-07    451.782684\n",
              "                 ...    \n",
              "2023-12-22    473.649994\n",
              "2023-12-26    475.649994\n",
              "2023-12-27    476.510010\n",
              "2023-12-28    476.690002\n",
              "2023-12-29    475.309998\n",
              "Name: Adj Close, Length: 501, dtype: float64"
            ]
          },
          "execution_count": 5,
          "metadata": {},
          "output_type": "execute_result"
        }
      ],
      "source": [
        "data"
      ]
    },
    {
      "cell_type": "markdown",
      "id": "6cba0c7c",
      "metadata": {
        "id": "6cba0c7c"
      },
      "source": [
        "**Cálculo del rendimiento diario y la volatilidad anualizada del activo subyacente**\n",
        "\n",
        "Estas líneas de código se utilizan para calcular la volatilidad anualizada de un activo subyacente, que es un componente clave en la valuación de opciones. Es importante tener en cuenta que el cálculo de la volatilidad implica el uso de logaritmos, que son válidos en el contexto de las finanzas.\n",
        "\n",
        "El cálculo del rendimiento diario del activo subyacente se realiza a partir de la serie de precios diarios del activo. La función \"np.log\" se utiliza para calcular el logaritmo natural del cociente de los precios del activo en dos días consecutivos. Al tomar el logaritmo de este cociente, estamos calculando la variación porcentual entre los dos precios y no simplemente la diferencia de precios. Luego, se elimina cualquier valor NaN (not a number) con la función \"dropna()\" para asegurarnos de que los cálculos posteriores sean precisos.\n",
        "\n",
        "Una vez que se han calculado los rendimientos diarios del activo subyacente, se utiliza la desviación estándar anualizada de estos rendimientos para calcular la volatilidad anualizada del activo subyacente. La volatilidad anualizada se calcula multiplicando la desviación estándar de los rendimientos diarios por la raíz cuadrada de 252 (que es el número de días de negociación en un año típico). El resultado es la volatilidad anualizada del activo subyacente.\n",
        "\n",
        "El uso de logaritmos es válido en finanzas porque es común asumir que el rendimiento de los activos financieros tiende a seguir una distribución lognormal. Esto significa que los rendimientos tienden a estar más cerca de la media y tienen una cola más larga hacia los valores extremos. El uso de logaritmos ayuda a manejar los valores extremos de los rendimientos y hacer que los cálculos sean más precisos. Además, el uso de logaritmos permite sumar los rendimientos en lugar de multiplicarlos, lo que hace que los cálculos sean más fáciles."
      ]
    },
    {
      "cell_type": "code",
      "execution_count": 6,
      "id": "e81293ea",
      "metadata": {
        "id": "e81293ea"
      },
      "outputs": [],
      "source": [
        "daily_returns = np.log(data / data.shift(1)).dropna()  # Cálculo del rendimiento diario del activo subyacente\n",
        "sigma = daily_returns.std() * np.sqrt(252)  # Cálculo de la volatilidad anualizada del activo subyacente"
      ]
    },
    {
      "cell_type": "code",
      "execution_count": 7,
      "id": "769a920a",
      "metadata": {
        "colab": {
          "base_uri": "https://localhost:8080/"
        },
        "id": "769a920a",
        "outputId": "8b6ca89b-8a60-440d-9241-6ae6aa23fe5b"
      },
      "outputs": [
        {
          "data": {
            "text/plain": [
              "Date\n",
              "2022-01-04   -0.000335\n",
              "2022-01-05   -0.019389\n",
              "2022-01-06   -0.000940\n",
              "2022-01-07   -0.003961\n",
              "2022-01-10   -0.001245\n",
              "                ...   \n",
              "2023-12-22    0.002008\n",
              "2023-12-26    0.004214\n",
              "2023-12-27    0.001806\n",
              "2023-12-28    0.000378\n",
              "2023-12-29   -0.002899\n",
              "Name: Adj Close, Length: 500, dtype: float64"
            ]
          },
          "execution_count": 7,
          "metadata": {},
          "output_type": "execute_result"
        }
      ],
      "source": [
        "daily_returns"
      ]
    },
    {
      "cell_type": "markdown",
      "id": "16187401",
      "metadata": {
        "id": "16187401"
      },
      "source": [
        "**Definición de los parámetros para la simulación de Monte Carlo**"
      ]
    },
    {
      "cell_type": "code",
      "execution_count": 8,
      "id": "32d28894",
      "metadata": {
        "id": "32d28894"
      },
      "outputs": [],
      "source": [
        "S0 = data[-1]     # Precio inicial del activo subyacente (último precio disponible)\n",
        "K = 420           # Precio strike de las opciones\n",
        "T = 151/365       # Tiempo hasta el vencimiento de las opciones (en años)\n",
        "r = 0.05          # Tasa de interés libre de riesgo\n",
        "num_simulations = 10000  # Número de trayectorias simuladas para la valuaciónb"
      ]
    },
    {
      "cell_type": "code",
      "execution_count": 9,
      "id": "395c90a8",
      "metadata": {
        "colab": {
          "base_uri": "https://localhost:8080/"
        },
        "id": "395c90a8",
        "outputId": "4e7bc48e-2797-4e8c-dc9a-44b35f8bc679"
      },
      "outputs": [
        {
          "data": {
            "text/plain": [
              "475.30999755859375"
            ]
          },
          "execution_count": 9,
          "metadata": {},
          "output_type": "execute_result"
        }
      ],
      "source": [
        "S0"
      ]
    },
    {
      "cell_type": "markdown",
      "id": "17ea2d68",
      "metadata": {
        "id": "17ea2d68"
      },
      "source": [
        "**Simulación de Monte Carlo para generar una serie de precios posibles para el activo subyacente en la fecha de vencimiento de las opciones**\n",
        "\n",
        "Las siguientes dos líneas de código se utilizan para generar trayectorias simuladas del precio del activo subyacente.\n",
        "\n",
        "La primera línea de código genera un conjunto de números aleatorios normalmente distribuidos utilizando la función \"np.random.normal\". Estos números se utilizan para simular la variación aleatoria en el precio del activo subyacente. La función \"np.random.normal\" toma tres argumentos: la media (que es cero en este caso), la desviación estándar (que es uno en este caso) y el número de simulaciones que se desean generar (que es el valor de \"num_simulations\").\n",
        "\n",
        "La segunda línea de código utiliza los números aleatorios generados anteriormente para simular los precios del activo subyacente en diferentes momentos en el futuro. La fórmula utilizada se basa en el modelo de movimiento geométrico Browniano.La fórmula tiene en cuenta el precio actual del activo subyacente (S0), la volatilidad anualizada del activo subyacente (sigma), el tiempo hasta el vencimiento de las opciones (T), la tasa de interés libre de riesgo (r) y los números aleatorios generados anteriormente (Z)."
      ]
    },
    {
      "cell_type": "code",
      "execution_count": 10,
      "id": "92ccd76b",
      "metadata": {
        "id": "92ccd76b"
      },
      "outputs": [],
      "source": [
        "Z = np.random.normal(0, 1, num_simulations)  # Generación de números aleatorios para la simulación de Monte Carlo\n",
        "St = S0 * np.exp((r - 0.5 * sigma**2) * T + sigma * np.sqrt(T) * Z)  # Cálculo de los precios simulados para el activo subyacente"
      ]
    },
    {
      "cell_type": "code",
      "execution_count": 11,
      "id": "d9860479",
      "metadata": {
        "colab": {
          "base_uri": "https://localhost:8080/"
        },
        "id": "d9860479",
        "outputId": "0acf3296-8b7f-4b61-ed52-fd8d91d84d74"
      },
      "outputs": [
        {
          "data": {
            "text/plain": [
              "array([ 3.28232384,  0.58264504, -1.74506011, ..., -1.25765208,\n",
              "       -0.36410304,  1.45513632])"
            ]
          },
          "execution_count": 11,
          "metadata": {},
          "output_type": "execute_result"
        }
      ],
      "source": [
        "Z"
      ]
    },
    {
      "cell_type": "code",
      "execution_count": 12,
      "id": "a49648e0",
      "metadata": {
        "colab": {
          "base_uri": "https://localhost:8080/"
        },
        "id": "a49648e0",
        "outputId": "4674aac6-d8cd-4631-a4de-163cffc5f111"
      },
      "outputs": [
        {
          "data": {
            "text/plain": [
              "(10000,)"
            ]
          },
          "execution_count": 12,
          "metadata": {},
          "output_type": "execute_result"
        }
      ],
      "source": [
        "Z.shape"
      ]
    },
    {
      "cell_type": "code",
      "execution_count": 13,
      "id": "02108afb",
      "metadata": {
        "colab": {
          "base_uri": "https://localhost:8080/"
        },
        "id": "02108afb",
        "outputId": "4bb9abed-086d-4d77-ec10-e4075ac208d3"
      },
      "outputs": [
        {
          "data": {
            "text/plain": [
              "array([727.2309978 , 518.00065717, 386.62477466, ..., 411.04678424,\n",
              "       459.89537733, 578.02792104])"
            ]
          },
          "execution_count": 13,
          "metadata": {},
          "output_type": "execute_result"
        }
      ],
      "source": [
        "St"
      ]
    },
    {
      "cell_type": "code",
      "execution_count": 14,
      "id": "c117bded",
      "metadata": {
        "colab": {
          "base_uri": "https://localhost:8080/"
        },
        "id": "c117bded",
        "outputId": "2d6e89b7-e515-4858-a829-99468bf62a70"
      },
      "outputs": [
        {
          "data": {
            "text/plain": [
              "(10000,)"
            ]
          },
          "execution_count": 14,
          "metadata": {},
          "output_type": "execute_result"
        }
      ],
      "source": [
        "St.shape"
      ]
    },
    {
      "cell_type": "code",
      "execution_count": 15,
      "id": "c6c0815f",
      "metadata": {
        "colab": {
          "base_uri": "https://localhost:8080/"
        },
        "id": "c6c0815f",
        "outputId": "ef1bdbf7-5c58-47f5-e411-00d4e87d2246"
      },
      "outputs": [
        {
          "data": {
            "text/plain": [
              "485.01444019590076"
            ]
          },
          "execution_count": 15,
          "metadata": {},
          "output_type": "execute_result"
        }
      ],
      "source": [
        "np.mean(St)"
      ]
    },
    {
      "cell_type": "code",
      "execution_count": 16,
      "id": "b5bc767b",
      "metadata": {
        "colab": {
          "base_uri": "https://localhost:8080/"
        },
        "id": "b5bc767b",
        "outputId": "246738e3-ff61-4fc7-c6ce-ed8ce78955ee"
      },
      "outputs": [
        {
          "data": {
            "text/plain": [
              "480.61200364914447"
            ]
          },
          "execution_count": 16,
          "metadata": {},
          "output_type": "execute_result"
        }
      ],
      "source": [
        "np.median(St)"
      ]
    },
    {
      "cell_type": "markdown",
      "id": "65303bf0",
      "metadata": {
        "id": "65303bf0"
      },
      "source": [
        "**Cálculo del pago de las opciones para cada una de las trayectorias simuladas**\n",
        "\n",
        "Estas líneas de código se utilizan para calcular el pago de una opción de compra (call) y una opción de venta (put) respectivamente, a partir de los precios simulados del activo subyacente.\n",
        "\n",
        "La primera línea de código utiliza la función \"np.maximum\" para calcular el pago de la opción de compra. La función \"np.maximum\" toma dos argumentos: los precios simulados del activo subyacente (St) y el precio de ejercicio de la opción de compra (K). La función devuelve el valor máximo entre la diferencia entre los precios simulados del activo subyacente y el precio de ejercicio (St - K) y cero. Esto asegura que el pago de la opción de compra siempre sea cero si el precio del activo subyacente en el futuro es menor que el precio de ejercicio, y de lo contrario, sea igual a la diferencia entre el precio simulado del activo subyacente y el precio de ejercicio.\n",
        "\n",
        "La segunda línea de código utiliza la misma función \"np.maximum\" para calcular el pago de la opción de venta. En este caso, la función devuelve el valor máximo entre la diferencia entre el precio de ejercicio y los precios simulados del activo subyacente (K - St) y cero. Esto asegura que el pago de la opción de venta siempre sea cero si el precio del activo subyacente en el futuro es mayor que el precio de ejercicio, y de lo contrario, sea igual a la diferencia entre el precio de ejercicio y el precio simulado del activo subyacente."
      ]
    },
    {
      "cell_type": "code",
      "execution_count": 17,
      "id": "3271297b",
      "metadata": {
        "id": "3271297b"
      },
      "outputs": [],
      "source": [
        "call_payoff = np.maximum(St - K, 0)  # Pago de la opción de compra (call)\n",
        "put_payoff = np.maximum(K - St, 0)  # Pago de la opción de venta (put)m"
      ]
    },
    {
      "cell_type": "code",
      "execution_count": 18,
      "id": "45d97557",
      "metadata": {
        "colab": {
          "base_uri": "https://localhost:8080/"
        },
        "id": "45d97557",
        "outputId": "186d8e76-c67e-45ac-d0ad-889d94a7a3bd"
      },
      "outputs": [
        {
          "data": {
            "text/plain": [
              "array([307.2309978 ,  98.00065717,   0.        , ...,   0.        ,\n",
              "        39.89537733, 158.02792104])"
            ]
          },
          "execution_count": 18,
          "metadata": {},
          "output_type": "execute_result"
        }
      ],
      "source": [
        "call_payoff"
      ]
    },
    {
      "cell_type": "code",
      "execution_count": 19,
      "id": "561b99f7",
      "metadata": {
        "colab": {
          "base_uri": "https://localhost:8080/"
        },
        "id": "561b99f7",
        "outputId": "989f7ca0-02d3-413a-e3dd-66e652a96396"
      },
      "outputs": [
        {
          "data": {
            "text/plain": [
              "array([ 0.        ,  0.        , 33.37522534, ...,  8.95321576,\n",
              "        0.        ,  0.        ])"
            ]
          },
          "execution_count": 19,
          "metadata": {},
          "output_type": "execute_result"
        }
      ],
      "source": [
        "put_payoff"
      ]
    },
    {
      "cell_type": "markdown",
      "id": "d531c650",
      "metadata": {
        "id": "d531c650"
      },
      "source": [
        "**Cálculo del valor presente de las opciones mediante la obtención del promedio de los pagos de las opciones y su descontado a su valor presente**"
      ]
    },
    {
      "cell_type": "markdown",
      "id": "06e821b7",
      "metadata": {
        "id": "06e821b7"
      },
      "source": [
        "Estas líneas de código se utilizan para calcular el valor presente de una opción de compra (call) y una opción de venta (put), respectivamente, a partir de los pagos de opciones calculados previamente y teniendo en cuenta la tasa de interés libre de riesgo.\n",
        "\n",
        "La primera línea de código utiliza la fórmula de valor presente para calcular el valor presente de la opción de compra. La fórmula tiene en cuenta el pago de la opción de compra calculado previamente (call_payoff), la tasa de interés libre de riesgo (r) y el tiempo hasta el vencimiento de la opción (T). La función \"np.mean\" se utiliza para calcular la media aritmética de los pagos de opciones. Luego, se multiplica el valor promedio de los pagos de opciones por el factor de descuento del valor presente (np.exp(-r * T)) para obtener el valor presente de la opción de compra.\n",
        "\n",
        "La segunda línea de código utiliza la misma fórmula de valor presente para calcular el valor presente de la opción de venta. En este caso, se utiliza el pago de la opción de venta calculado previamente (put_payoff) en lugar del pago de la opción de compra. Se utiliza la misma función \"np.mean\" para calcular la media aritmética de los pagos de opciones, y luego se multiplica por el factor de descuento del valor presente (np.exp(-r * T)) para obtener el valor presente de la opción de venta."
      ]
    },
    {
      "cell_type": "code",
      "execution_count": 20,
      "id": "dcb61ee6",
      "metadata": {
        "id": "dcb61ee6"
      },
      "outputs": [],
      "source": [
        "call_value = np.exp(-r * T) * np.mean(call_payoff)  # Valor presente de la opción de compra (call)\n",
        "put_value = np.exp(-r * T) * np.mean(put_payoff)  # Valor presente de la opción de venta (put)"
      ]
    },
    {
      "cell_type": "markdown",
      "id": "df1f79c1",
      "metadata": {
        "id": "df1f79c1"
      },
      "source": [
        "**Impresión de los resultados de la valuación de las opciones**"
      ]
    },
    {
      "cell_type": "code",
      "execution_count": 21,
      "id": "d8a01e52",
      "metadata": {
        "colab": {
          "base_uri": "https://localhost:8080/"
        },
        "id": "d8a01e52",
        "outputId": "fb94862e-9938-43b1-ffc5-02162060c7da"
      },
      "outputs": [
        {
          "name": "stdout",
          "output_type": "stream",
          "text": [
            "Valor de la opción call: 67.0981\n",
            "Valor de la opción put: 3.41\n"
          ]
        }
      ],
      "source": [
        "print(f\"Valor de la opción call: {call_value:.4f}\")\n",
        "print(f\"Valor de la opción put: {put_value:.2f}\")"
      ]
    },
    {
      "cell_type": "markdown",
      "id": "84ad0ead",
      "metadata": {},
      "source": [
        "Cambiar los valores de K hasta 600"
      ]
    },
    {
      "cell_type": "code",
      "execution_count": 25,
      "id": "wo1z3TWszZVz",
      "metadata": {
        "id": "wo1z3TWszZVz"
      },
      "outputs": [],
      "source": [
        "def sim_variando_K(K):\n",
        "    S0 = data[-1]     # Precio inicial del activo subyacente (último precio disponible)\n",
        "    T = 151/365       # Tiempo hasta el vencimiento de las opciones (en años)\n",
        "    r = 0.05          # Tasa de interés libre de riesgo\n",
        "    num_simulations = 10000  # Número de trayectorias simuladas para la valuación\n",
        "\n",
        "    Z = np.random.normal(0, 1, num_simulations)  # Generación de números aleatorios para la simulación de Monte Carlo\n",
        "    St = S0 * np.exp((r - 0.5 * sigma**2) * T + sigma * np.sqrt(T) * Z)  # Cálculo de los precios simulados para el activo subyacente\n",
        "\n",
        "    call_payoff = np.maximum(St - K, 0)  # Pago de la opción de compra (call)\n",
        "    put_payoff = np.maximum(K - St, 0)  # Pago de la opción de venta (put)m\n",
        "    \n",
        "    return np.mean(call_payoff), np.mean(put_payoff)"
      ]
    },
    {
      "cell_type": "code",
      "execution_count": 26,
      "id": "a33483b2",
      "metadata": {},
      "outputs": [],
      "source": [
        "k_values = np.linspace(S0*0.8,S0*1.2,100)\n",
        "lista_put = []\n",
        "lista_call = []\n",
        "lista_precios = []\n",
        "\n",
        "for k in k_values:\n",
        "    valor_call, valor_put = sim_variando_K(k)\n",
        "    \n",
        "    lista_precios.append(k)\n",
        "    lista_call.append(valor_call)\n",
        "    lista_put.append(valor_put)\n",
        "\n",
        "precios = np.array(lista_precios)    \n",
        "call = np.array(lista_call)\n",
        "put = np.array(lista_put)"
      ]
    },
    {
      "cell_type": "code",
      "execution_count": 27,
      "id": "9ccca7da",
      "metadata": {},
      "outputs": [
        {
          "data": {
            "image/png": "[encoded data removed]",
            "text/plain": [
              "<Figure size 640x480 with 1 Axes>"
            ]
          },
          "metadata": {},
          "output_type": "display_data"
        }
      ],
      "source": [
        "plt.plot(precios, call, c = \"b\", label=\"Opción Call\")\n",
        "plt.plot(precios, put, c = \"r\", label=\"Opción Put\")\n",
        "plt.xlabel(\"Valor del precio de Strike\")\n",
        "plt.ylabel(\"Valor Intrínseco de la Opción\")\n",
        "plt.legend(loc=\"best\")\n",
        "plt.title(\"Valor de una Opció CALL vs una PUT\")\n",
        "plt.grid()"
      ]
    }
  ],
  "metadata": {
    "colab": {
      "provenance": []
    },
    "kernelspec": {
      "display_name": "Python 3 (ipykernel)",
      "language": "python",
      "name": "python3"
    },
    "language_info": {
      "codemirror_mode": {
        "name": "ipython",
        "version": 3
      },
      "file_extension": ".py",
      "mimetype": "text/x-python",
      "name": "python",
      "nbconvert_exporter": "python",
      "pygments_lexer": "ipython3",
      "version": "3.10.2"
    }
  },
  "nbformat": 4,
  "nbformat_minor": 5
}
