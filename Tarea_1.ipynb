{
  "cells": [
    {
      "cell_type": "markdown",
      "metadata": {
        "id": "RZ8LvlKoHg-U"
      },
      "source": [
        "**Tarea 1: Análisis financiero de operaciones diarias usando Python**\n",
        "\n",
        "**Objetivo:** Reforzar tu comprensión sobre las estructuras de datos y control en Python mediante el análisis de las operaciones diarias de una empresa.\n",
        "\n",
        "**Descripción** Eres un analista financieroen una empresa de distribución de productos electrónicos. Cada día, la empresa tiene múltiples transacciones que involucran la compra de productos a proveedores y la venta a clientes. Se te ha asignado la tarea de analizar las operaciones del último mes para obtener insights sobre las operaciones de la empresa.\n",
        "\n"
      ]
    },
    {
      "cell_type": "markdown",
      "metadata": {
        "id": "XwN8LGXsHyeC"
      },
      "source": [
        "### Datos a usar\n",
        "El siguiente código genera datos de 600 operaciones de compra y venta realizadas en agosto. Los guarda en `generated_operaciones`  que es una lista de diccionarios (una lista donde cada entrada es un diccionario).\n",
        "\n",
        "Cada operación tiene los datos fecha de operación, tipo de operación (compra o venta), codigo de producto, cantidad y precio_unitario.\n",
        "\n",
        "\n"
      ]
    },
    {
      "cell_type": "code",
      "execution_count": 1,
      "metadata": {
        "id": "OjsGBe1TGjrg"
      },
      "outputs": [],
      "source": [
        "import random\n",
        "from datetime import datetime, timedelta\n",
        "random.seed(42)\n",
        "\n",
        "num_observations = 600\n",
        "generated_operaciones = []\n",
        "\n",
        "for _ in range(num_observations):\n",
        "    fecha = (datetime.strptime(\"2023-08-01\", \"%Y-%m-%d\") + timedelta(days=random.randint(0, 30))).strftime('%Y-%m-%d')\n",
        "    tipo = random.choice([\"compra\", \"venta\"])\n",
        "    codigo_de_producto = \"P00\" + str(random.randint(1, 3))\n",
        "    cantidad = random.randint(1, 20)\n",
        "    precio_unitario = random.randint(100, 1000)\n",
        "\n",
        "    operacion = {\n",
        "        \"fecha\": fecha,\n",
        "        \"tipo\": tipo,\n",
        "        \"codigo_de_producto\": codigo_de_producto,\n",
        "        \"cantidad\": cantidad,\n",
        "        \"precio_unitario\": precio_unitario\n",
        "    }\n",
        "\n",
        "    generated_operaciones.append(operacion)\n"
      ]
    },
    {
      "cell_type": "code",
      "execution_count": 2,
      "metadata": {
        "colab": {
          "base_uri": "https://localhost:8080/"
        },
        "id": "mjds6fyXGoOi",
        "outputId": "520a9e1d-7f8d-4935-802f-1df5c289a981"
      },
      "outputs": [
        {
          "data": {
            "text/plain": [
              "[{'fecha': '2023-08-21',\n",
              "  'tipo': 'compra',\n",
              "  'codigo_de_producto': 'P001',\n",
              "  'cantidad': 9,\n",
              "  'precio_unitario': 350},\n",
              " {'fecha': '2023-08-08',\n",
              "  'tipo': 'compra',\n",
              "  'codigo_de_producto': 'P003',\n",
              "  'cantidad': 4,\n",
              "  'precio_unitario': 792},\n",
              " {'fecha': '2023-08-24',\n",
              "  'tipo': 'compra',\n",
              "  'codigo_de_producto': 'P003',\n",
              "  'cantidad': 14,\n",
              "  'precio_unitario': 132},\n",
              " {'fecha': '2023-08-01',\n",
              "  'tipo': 'compra',\n",
              "  'codigo_de_producto': 'P001',\n",
              "  'cantidad': 8,\n",
              "  'precio_unitario': 617},\n",
              " {'fecha': '2023-08-20',\n",
              "  'tipo': 'compra',\n",
              "  'codigo_de_producto': 'P003',\n",
              "  'cantidad': 7,\n",
              "  'precio_unitario': 833}]"
            ]
          },
          "execution_count": 2,
          "metadata": {},
          "output_type": "execute_result"
        }
      ],
      "source": [
        "generated_operaciones[:5]"
      ]
    },
    {
      "cell_type": "markdown",
      "metadata": {
        "id": "0BVf5ZMXJiJY"
      },
      "source": [
        "### **Continúa desde aquí**\n",
        "#### **Tarea:**\n",
        "La primera está casi completa (falta completar), úsala como guía por si estás perdido en cómo empezar. Puedes modificar el código como quieras.\n",
        "\n",
        "**Agrega comentarios o texto si crees necesario para explicar tu código**"
      ]
    },
    {
      "cell_type": "markdown",
      "metadata": {
        "id": "PEQC69dSLUl5"
      },
      "source": [
        "1. Calcula el total de operaciones de compra y venta realizadas durante el mes **para el producto P003**.\n",
        "\n",
        "\n"
      ]
    },
    {
      "cell_type": "code",
      "execution_count": 3,
      "metadata": {
        "colab": {
          "base_uri": "https://localhost:8080/"
        },
        "id": "jMxBGETKLVUe",
        "outputId": "7e3adbc9-0d50-4b67-da4e-f3f8b053fecd"
      },
      "outputs": [
        {
          "data": {
            "text/plain": [
              "97"
            ]
          },
          "execution_count": 3,
          "metadata": {},
          "output_type": "execute_result"
        }
      ],
      "source": [
        "# Inicializamos los contadores\n",
        "total_compras = 0\n",
        "total_ventas = 0\n",
        "\n",
        "# Iteramos sobre las transacciones\n",
        "for transaccion in generated_operaciones:\n",
        "    if transaccion[\"tipo\"] == \"compra\" and transaccion[\"codigo_de_producto\"] == \"P003\":\n",
        "        total_compras += 1\n",
        "    elif transaccion[\"tipo\"] == \"venta\" and transaccion[\"codigo_de_producto\"] == \"P003\":\n",
        "        total_ventas += 1\n",
        "\n",
        "total_compras"
      ]
    },
    {
      "cell_type": "code",
      "execution_count": 4,
      "metadata": {
        "colab": {
          "base_uri": "https://localhost:8080/"
        },
        "id": "PvEROXa9Ob13",
        "outputId": "f3cdfa97-6ca8-4090-d6d5-443c8873ea94"
      },
      "outputs": [
        {
          "data": {
            "text/plain": [
              "111"
            ]
          },
          "execution_count": 4,
          "metadata": {},
          "output_type": "execute_result"
        }
      ],
      "source": [
        "total_ventas"
      ]
    },
    {
      "cell_type": "markdown",
      "metadata": {
        "id": "h_K8TmNOLWbE"
      },
      "source": [
        "\n",
        "2. Determina la cantidad total de productos (por código) comprados y vendidos durante el mes.  "
      ]
    },
    {
      "cell_type": "code",
      "execution_count": 5,
      "metadata": {
        "id": "mgLUFvJzLZRH"
      },
      "outputs": [],
      "source": [
        "def producto(codigo, lista):\n",
        "    venta = 0\n",
        "    compra = 0\n",
        "    \n",
        "    for x in lista:\n",
        "        if x['tipo'] == 'compra' and x['codigo_de_producto'] == codigo:\n",
        "            compra = compra + x['cantidad']\n",
        "        elif x['tipo'] == 'venta' and x['codigo_de_producto'] == codigo:\n",
        "            venta = venta + x['cantidad']\n",
        "    \n",
        "    return (venta,compra)"
      ]
    },
    {
      "cell_type": "code",
      "execution_count": 6,
      "metadata": {},
      "outputs": [
        {
          "name": "stdout",
          "output_type": "stream",
          "text": [
            "(1202, 915) (1105, 926) (1265, 1037)\n"
          ]
        }
      ],
      "source": [
        "p001 = producto(\"P001\", generated_operaciones)\n",
        "p002 = producto(\"P002\", generated_operaciones)\n",
        "p003 = producto(\"P003\", generated_operaciones)\n",
        "\n",
        "print(p001,p002,p003)"
      ]
    },
    {
      "cell_type": "markdown",
      "metadata": {
        "id": "d1kUofvxLbXg"
      },
      "source": [
        "\n",
        "3. Identifica el producto más vendido durante el mes."
      ]
    },
    {
      "cell_type": "markdown",
      "metadata": {},
      "source": [
        "El producto más vendido fue el `P003`"
      ]
    },
    {
      "cell_type": "markdown",
      "metadata": {
        "id": "DH6ibKHeLhax"
      },
      "source": [
        "4. Calcula el precio de venta promedio del producto P001."
      ]
    },
    {
      "cell_type": "code",
      "execution_count": 7,
      "metadata": {
        "id": "UKe3SYW3LihU"
      },
      "outputs": [
        {
          "name": "stdout",
          "output_type": "stream",
          "text": [
            "558.82\n"
          ]
        }
      ],
      "source": [
        "denominador = 0\n",
        "contador = 0\n",
        "\n",
        "for i in generated_operaciones:\n",
        "    if i['codigo_de_producto']==\"P001\" and i['tipo']==\"venta\":\n",
        "        denominador = denominador + i['cantidad']*i['precio_unitario']\n",
        "        contador = contador + i['cantidad']\n",
        "\n",
        "precio_vta_promedio = round(denominador/contador,2)\n",
        "print(precio_vta_promedio)"
      ]
    },
    {
      "cell_type": "markdown",
      "metadata": {
        "id": "v1Qxa2ABLiws"
      },
      "source": [
        "\n",
        "5. Calcula las ganancias por producto."
      ]
    },
    {
      "cell_type": "code",
      "execution_count": 8,
      "metadata": {
        "id": "uFHna8P3LmCq"
      },
      "outputs": [],
      "source": [
        "def ganancias(codigo, lista):\n",
        "    venta = 0\n",
        "    compra = 0\n",
        "    \n",
        "    for x in lista:\n",
        "        if x['tipo'] == 'compra' and x['codigo_de_producto'] == codigo:\n",
        "            compra = compra + x['cantidad']*x['precio_unitario']\n",
        "        elif x['tipo'] == 'venta' and x['codigo_de_producto'] == codigo:\n",
        "            venta = venta + x['cantidad']*x['precio_unitario']\n",
        "    \n",
        "    return venta-compra"
      ]
    },
    {
      "cell_type": "code",
      "execution_count": 9,
      "metadata": {},
      "outputs": [
        {
          "name": "stdout",
          "output_type": "stream",
          "text": [
            "150716 65765 133982\n"
          ]
        }
      ],
      "source": [
        "p001 = ganancias(\"P001\", generated_operaciones)\n",
        "p002 = ganancias(\"P002\", generated_operaciones)\n",
        "p003 = ganancias(\"P003\", generated_operaciones)\n",
        "\n",
        "print(p001,p002,p003)"
      ]
    },
    {
      "cell_type": "markdown",
      "metadata": {
        "id": "vHQnO5qFPWn7"
      },
      "source": [
        "6. Libre: Desarrolla un insight libre, propuesto por ti"
      ]
    },
    {
      "cell_type": "markdown",
      "metadata": {
        "id": "pAK347EWPWXp"
      },
      "source": [
        "Cálculo del ticket promedio"
      ]
    },
    {
      "cell_type": "code",
      "execution_count": 10,
      "metadata": {},
      "outputs": [
        {
          "data": {
            "text/plain": [
              "6045.721666666666"
            ]
          },
          "execution_count": 10,
          "metadata": {},
          "output_type": "execute_result"
        }
      ],
      "source": [
        "acumulado = 0\n",
        "for i in generated_operaciones:\n",
        "    acumulado = acumulado + i['precio_unitario']*i['cantidad']\n",
        "\n",
        "acumulado/len(generated_operaciones)"
      ]
    },
    {
      "cell_type": "markdown",
      "metadata": {},
      "source": [
        "El ticket promedio de las operaciones es de **$6,045.72$**"
      ]
    }
  ],
  "metadata": {
    "colab": {
      "provenance": []
    },
    "kernelspec": {
      "display_name": "Python 3",
      "name": "python3"
    },
    "language_info": {
      "codemirror_mode": {
        "name": "ipython",
        "version": 3
      },
      "file_extension": ".py",
      "mimetype": "text/x-python",
      "name": "python",
      "nbconvert_exporter": "python",
      "pygments_lexer": "ipython3",
      "version": "3.10.2"
    }
  },
  "nbformat": 4,
  "nbformat_minor": 0
}
