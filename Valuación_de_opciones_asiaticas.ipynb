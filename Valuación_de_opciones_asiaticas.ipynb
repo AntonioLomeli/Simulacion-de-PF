{
  "cells": [
    {
      "cell_type": "markdown",
      "id": "15cfe709",
      "metadata": {
        "id": "15cfe709"
      },
      "source": [
        "## Modelo de Monte Carlo para la valuación de opciones europeas\n",
        "\n",
        "#### _European Option Pricing with Montecarlo_\n",
        "\n",
        "\n",
        "\n",
        "#### Ventajas y limitaciones del enfoque de Monte Carlo\n",
        "\n",
        "#### Ventajas:\n",
        "\n",
        "- Flexibilidad: el modelo de Monte Carlo es aplicable a una amplia variedad de opciones y activos subyacentes, incluyendo opciones personalizadas que sean más difíciles de adaptar desde Black-Scholes.\n",
        "\n",
        "\n",
        "#### Limitaciones:\n",
        "\n",
        "- Tiempo de cálculo: a medida que aumenta el número de simulaciones, el tiempo de cálculo también aumenta.\n",
        "- Precisión: el valor estimado de la opción puede tener cierta variabilidad debido al carácter aleatorio de las simulaciones.\n",
        "\n",
        "### Matemáticas necesarias\n",
        "\n",
        "Puedes valuar una opción sin utilizar el modelo de Black-Scholes y en su lugar para simular el precio del activo subyacente en diferentes momentos, utilizar la ecuación de Movimiento Geométrico Browniano [_(Geometric Brownian Motion)_](https://en.wikipedia.org/wiki/Geometric_Brownian_motion), que se define como:\n",
        "\n",
        "$$\n",
        "S_t = S_0 \\cdot e^{(r - \\frac{\\sigma^2}{2})t + \\sigma\\sqrt{t}Z}\n",
        "$$\n",
        "\n",
        "\n",
        "Donde:\n",
        "\n",
        "$S_t$: Precio del activo subyacente en el tiempo $t$\n",
        "\n",
        "$S_0$: Precio inicial del activo subyacente\n",
        "\n",
        "$r$: Tasa de interés libre de riesgo\n",
        "\n",
        "$\\sigma$: Volatilidad del activo subyacente\n",
        "\n",
        "$t$: Tiempo\n",
        "\n",
        "$Z$: Variable aleatoria normal estándar (con media 0 y desviación estándar 1)"
      ]
    },
    {
      "cell_type": "markdown",
      "id": "e1213a64",
      "metadata": {
        "id": "e1213a64"
      },
      "source": [
        "A continuación, calculamos el valor esperado del pago (valor intrínseco) de la opción en cada trayectoria simulada y descontamos el valor a la fecha presente utilizando la tasa de interés libre de riesgo."
      ]
    },
    {
      "cell_type": "markdown",
      "id": "1bb7d6cc",
      "metadata": {
        "id": "1bb7d6cc"
      },
      "source": [
        "Para una opción europea call, el valor intrínseco es:\n",
        "\n",
        "$ C_T = max(S_T − K,0) $\n",
        "\n",
        "Para una opción europea put, el valor intrínseco es:\n",
        "\n",
        "$ P_T = max(K - S_T,0) $\n",
        "\n",
        "Donde $K$ es el precio strike de la opción.\n",
        "\n",
        "El valor esperado de la opción se calcula como la media de los pagos descontados de todas las trayectorias simuladas y se expresa como:\n",
        "\n",
        "$$\n",
        "C_0 = e^{-rT} \\cdot \\frac{1}{N} \\sum_{i=1}^{N} C_{T,i}\n",
        "$$\n",
        "\n",
        "\n",
        "$$\n",
        "P_0 = e^{-rT} \\cdot \\frac{1}{N} \\sum_{i=1}^{N} P_{T,i}\n",
        "$$\n"
      ]
    },
    {
      "cell_type": "markdown",
      "id": "6bfdf42a",
      "metadata": {
        "id": "6bfdf42a"
      },
      "source": [
        "**Donde:**\n",
        "\n",
        "**$C_0$ y $P_0$:** Valor presente de la opción de compra y de venta, respectivamente.\n",
        "\n",
        "**$T$:** Tiempo hasta el vencimiento de la opción.\n",
        "\n",
        "**$N$:** Número de trayectorias simuladas.\n",
        "\n",
        "**$C_{T,i}$ y $P_{T,i}$:** Pago de la opción de compra y de venta en la trayectoria $i$, respectivamente.\n",
        "\n",
        "$r$: tasa libre de riesgo\n",
        "\n",
        "##### Pequeña explicación\n",
        "Estas fórmulas representan el precio actual (también conocido como valor presente) de una cartera de opciones de compra (C) y de venta (P), respectivamente. La estructura de ambas fórmulas es muy similar, y ambas tienen en cuenta el valor presente de los flujos de efectivo futuros.\n",
        "\n",
        "\n",
        "Para entender mejor cada elemento de las ecuaciones, vamos a desglosarlas:\n",
        "\n",
        "$C_0$ y $P_0$: estos son los precios actuales de las carteras de opciones de compra y de venta, respectivamente. Se calculan a partir del valor presente de los flujos de efectivo futuros.\n",
        "\n",
        "$e^{-rT}$: esta es la tasa de descuento, necesaria para convertir a valor presente el valor de las opciones al vencimiento. r es la tasa de interés libre de riesgo, y T es el tiempo en años que falta para el vencimiento de las opciones.\n",
        "\n",
        "$\\frac{1}{N} \\sum_{i=1}^{N} C_{T,i}$ y $\\frac{1}{N} \\sum_{i=1}^{N} P_{T,i}$: estas son las medias aritméticas de los precios de las opciones de compra y de venta que forman la cartera. Cada $C_{T,i}$ y $P_{T,i}$ representa el precio de una opción individual en el momento T.\n"
      ]
    },
    {
      "cell_type": "markdown",
      "id": "935fa909",
      "metadata": {
        "id": "935fa909"
      },
      "source": [
        "Ahora, implementemos esto en Python y usemos gráficas para visualizar los resultados."
      ]
    },
    {
      "cell_type": "markdown",
      "id": "43651feb",
      "metadata": {
        "id": "43651feb"
      },
      "source": [
        "**Importación de las bibliotecas necesarias**"
      ]
    },
    {
      "cell_type": "code",
      "execution_count": 43,
      "id": "e39453be",
      "metadata": {
        "id": "e39453be"
      },
      "outputs": [],
      "source": [
        "import numpy as np\n",
        "import pandas as pd\n",
        "import yfinance as yf\n",
        "import matplotlib.pyplot as plt"
      ]
    },
    {
      "cell_type": "markdown",
      "id": "6e750702",
      "metadata": {
        "id": "6e750702"
      },
      "source": [
        "**Importación de los datos necesarios**"
      ]
    },
    {
      "cell_type": "code",
      "execution_count": 44,
      "id": "a70ac457",
      "metadata": {
        "colab": {
          "base_uri": "https://localhost:8080/"
        },
        "id": "a70ac457",
        "outputId": "bfdef237-ab51-4ddd-abd4-39af4773b3af"
      },
      "outputs": [
        {
          "name": "stderr",
          "output_type": "stream",
          "text": [
            "[*********************100%%**********************]  1 of 1 completed\n"
          ]
        }
      ],
      "source": [
        "\n",
        "ticker = 'SPY'  # Ticker de ETF SP500\n",
        "data = yf.download(ticker, start='2022-01-01', end='2024-01-01')['Adj Close']"
      ]
    },
    {
      "cell_type": "code",
      "execution_count": 45,
      "id": "0ea9517c",
      "metadata": {
        "colab": {
          "base_uri": "https://localhost:8080/"
        },
        "id": "0ea9517c",
        "outputId": "59cb19a9-a19f-4ccf-8c2b-92679ea4835d"
      },
      "outputs": [
        {
          "data": {
            "text/plain": [
              "Date\n",
              "2022-01-03    463.045990\n",
              "2022-01-04    462.890900\n",
              "2022-01-05    454.002411\n",
              "2022-01-06    453.575928\n",
              "2022-01-07    451.782715\n",
              "                 ...    \n",
              "2023-12-22    473.649994\n",
              "2023-12-26    475.649994\n",
              "2023-12-27    476.510010\n",
              "2023-12-28    476.690002\n",
              "2023-12-29    475.309998\n",
              "Name: Adj Close, Length: 501, dtype: float64"
            ]
          },
          "execution_count": 45,
          "metadata": {},
          "output_type": "execute_result"
        }
      ],
      "source": [
        "data"
      ]
    },
    {
      "cell_type": "markdown",
      "id": "6cba0c7c",
      "metadata": {
        "id": "6cba0c7c"
      },
      "source": [
        "**Cálculo del rendimiento diario y la volatilidad anualizada del activo subyacente**\n",
        "\n",
        "Estas líneas de código se utilizan para calcular la volatilidad anualizada de un activo subyacente, que es un componente clave en la valuación de opciones. Es importante tener en cuenta que el cálculo de la volatilidad implica el uso de logaritmos, que son válidos en el contexto de las finanzas.\n",
        "\n",
        "El cálculo del rendimiento diario del activo subyacente se realiza a partir de la serie de precios diarios del activo. La función \"np.log\" se utiliza para calcular el logaritmo natural del cociente de los precios del activo en dos días consecutivos. Al tomar el logaritmo de este cociente, estamos calculando la variación porcentual entre los dos precios y no simplemente la diferencia de precios. Luego, se elimina cualquier valor NaN (not a number) con la función \"dropna()\" para asegurarnos de que los cálculos posteriores sean precisos.\n",
        "\n",
        "Una vez que se han calculado los rendimientos diarios del activo subyacente, se utiliza la desviación estándar anualizada de estos rendimientos para calcular la volatilidad anualizada del activo subyacente. La volatilidad anualizada se calcula multiplicando la desviación estándar de los rendimientos diarios por la raíz cuadrada de 252 (que es el número de días de negociación en un año típico). El resultado es la volatilidad anualizada del activo subyacente.\n",
        "\n",
        "El uso de logaritmos es válido en finanzas porque es común asumir que el rendimiento de los activos financieros tiende a seguir una distribución lognormal. Esto significa que los rendimientos tienden a estar más cerca de la media y tienen una cola más larga hacia los valores extremos. El uso de logaritmos ayuda a manejar los valores extremos de los rendimientos y hacer que los cálculos sean más precisos. Además, el uso de logaritmos permite sumar los rendimientos en lugar de multiplicarlos, lo que hace que los cálculos sean más fáciles."
      ]
    },
    {
      "cell_type": "code",
      "execution_count": 46,
      "id": "e81293ea",
      "metadata": {
        "id": "e81293ea"
      },
      "outputs": [],
      "source": [
        "daily_returns = np.log(data / data.shift(1)).dropna()  # Cálculo del rendimiento diario del activo subyacente\n",
        "sigma = daily_returns.std() * np.sqrt(252)  # Cálculo de la volatilidad anualizada del activo subyacente"
      ]
    },
    {
      "cell_type": "code",
      "execution_count": 47,
      "id": "769a920a",
      "metadata": {
        "colab": {
          "base_uri": "https://localhost:8080/"
        },
        "id": "769a920a",
        "outputId": "8b6ca89b-8a60-440d-9241-6ae6aa23fe5b"
      },
      "outputs": [
        {
          "data": {
            "text/plain": [
              "Date\n",
              "2022-01-04   -0.000335\n",
              "2022-01-05   -0.019389\n",
              "2022-01-06   -0.000940\n",
              "2022-01-07   -0.003961\n",
              "2022-01-10   -0.001245\n",
              "                ...   \n",
              "2023-12-22    0.002008\n",
              "2023-12-26    0.004214\n",
              "2023-12-27    0.001806\n",
              "2023-12-28    0.000378\n",
              "2023-12-29   -0.002899\n",
              "Name: Adj Close, Length: 500, dtype: float64"
            ]
          },
          "execution_count": 47,
          "metadata": {},
          "output_type": "execute_result"
        }
      ],
      "source": [
        "daily_returns"
      ]
    },
    {
      "cell_type": "markdown",
      "id": "16187401",
      "metadata": {
        "id": "16187401"
      },
      "source": [
        "**Definición de los parámetros para la simulación de Monte Carlo**"
      ]
    },
    {
      "cell_type": "code",
      "execution_count": 48,
      "id": "32d28894",
      "metadata": {
        "id": "32d28894"
      },
      "outputs": [],
      "source": [
        "\n",
        "S0 = data[-1]     # Precio inicial del activo subyacente (último precio disponible)\n",
        "K = S0 * 1.1           # Precio strike de las opciones\n",
        "T = 365       # Tiempo hasta el vencimiento de las opciones (en días)\n",
        "r = 0.05          # Tasa de interés libre de riesgo\n",
        "num_simulations = 30000  # Número de trayectorias simuladas para la valuación"
      ]
    },
    {
      "cell_type": "code",
      "execution_count": 49,
      "id": "395c90a8",
      "metadata": {
        "colab": {
          "base_uri": "https://localhost:8080/"
        },
        "id": "395c90a8",
        "outputId": "4e7bc48e-2797-4e8c-dc9a-44b35f8bc679"
      },
      "outputs": [
        {
          "data": {
            "text/plain": [
              "475.30999755859375"
            ]
          },
          "execution_count": 49,
          "metadata": {},
          "output_type": "execute_result"
        }
      ],
      "source": [
        "S0"
      ]
    },
    {
      "cell_type": "markdown",
      "id": "17ea2d68",
      "metadata": {
        "id": "17ea2d68"
      },
      "source": [
        "**Simulación de Monte Carlo para generar una serie de precios posibles para el activo subyacente en la fecha de vencimiento de las opciones**\n",
        "\n",
        "Las siguientes dos líneas de código se utilizan para generar trayectorias simuladas del precio del activo subyacente.\n",
        "\n",
        "La primera línea de código genera un conjunto de números aleatorios normalmente distribuidos utilizando la función \"np.random.normal\". Estos números se utilizan para simular la variación aleatoria en el precio del activo subyacente. La función \"np.random.normal\" toma tres argumentos: la media (que es cero en este caso), la desviación estándar (que es uno en este caso) y el número de simulaciones que se desean generar (que es el valor de \"num_simulations\").\n",
        "\n",
        "La segunda línea de código utiliza los números aleatorios generados anteriormente para simular los precios del activo subyacente en diferentes momentos en el futuro. La fórmula utilizada se basa en el modelo de movimiento geométrico Browniano.La fórmula tiene en cuenta el precio actual del activo subyacente (S0), la volatilidad anualizada del activo subyacente (sigma), el tiempo hasta el vencimiento de las opciones (T), la tasa de interés libre de riesgo (r) y los números aleatorios generados anteriormente (Z)."
      ]
    },
    {
      "cell_type": "code",
      "execution_count": 50,
      "id": "65b7997b",
      "metadata": {},
      "outputs": [
        {
          "data": {
            "text/html": [
              "<div>\n",
              "<style scoped>\n",
              "    .dataframe tbody tr th:only-of-type {\n",
              "        vertical-align: middle;\n",
              "    }\n",
              "\n",
              "    .dataframe tbody tr th {\n",
              "        vertical-align: top;\n",
              "    }\n",
              "\n",
              "    .dataframe thead th {\n",
              "        text-align: right;\n",
              "    }\n",
              "</style>\n",
              "<table border=\"1\" class=\"dataframe\">\n",
              "  <thead>\n",
              "    <tr style=\"text-align: right;\">\n",
              "      <th></th>\n",
              "      <th>0</th>\n",
              "      <th>1</th>\n",
              "      <th>2</th>\n",
              "      <th>3</th>\n",
              "      <th>4</th>\n",
              "      <th>5</th>\n",
              "      <th>6</th>\n",
              "      <th>7</th>\n",
              "      <th>8</th>\n",
              "      <th>9</th>\n",
              "      <th>...</th>\n",
              "      <th>29990</th>\n",
              "      <th>29991</th>\n",
              "      <th>29992</th>\n",
              "      <th>29993</th>\n",
              "      <th>29994</th>\n",
              "      <th>29995</th>\n",
              "      <th>29996</th>\n",
              "      <th>29997</th>\n",
              "      <th>29998</th>\n",
              "      <th>29999</th>\n",
              "    </tr>\n",
              "  </thead>\n",
              "  <tbody>\n",
              "    <tr>\n",
              "      <th>0</th>\n",
              "      <td>474.054555</td>\n",
              "      <td>463.891015</td>\n",
              "      <td>463.204822</td>\n",
              "      <td>475.122814</td>\n",
              "      <td>471.013489</td>\n",
              "      <td>472.228389</td>\n",
              "      <td>467.579699</td>\n",
              "      <td>468.196467</td>\n",
              "      <td>468.233326</td>\n",
              "      <td>479.078139</td>\n",
              "      <td>...</td>\n",
              "      <td>479.872499</td>\n",
              "      <td>475.804422</td>\n",
              "      <td>472.478541</td>\n",
              "      <td>469.332010</td>\n",
              "      <td>473.769460</td>\n",
              "      <td>472.114247</td>\n",
              "      <td>477.983418</td>\n",
              "      <td>474.594621</td>\n",
              "      <td>474.725363</td>\n",
              "      <td>471.915865</td>\n",
              "    </tr>\n",
              "    <tr>\n",
              "      <th>1</th>\n",
              "      <td>477.065648</td>\n",
              "      <td>456.488978</td>\n",
              "      <td>462.921737</td>\n",
              "      <td>475.473649</td>\n",
              "      <td>464.367649</td>\n",
              "      <td>474.406852</td>\n",
              "      <td>466.120301</td>\n",
              "      <td>471.517326</td>\n",
              "      <td>475.332194</td>\n",
              "      <td>481.693581</td>\n",
              "      <td>...</td>\n",
              "      <td>487.773972</td>\n",
              "      <td>473.333356</td>\n",
              "      <td>466.472379</td>\n",
              "      <td>457.937119</td>\n",
              "      <td>471.813619</td>\n",
              "      <td>469.974148</td>\n",
              "      <td>487.038099</td>\n",
              "      <td>476.785174</td>\n",
              "      <td>478.396085</td>\n",
              "      <td>472.494875</td>\n",
              "    </tr>\n",
              "    <tr>\n",
              "      <th>2</th>\n",
              "      <td>484.795551</td>\n",
              "      <td>451.353018</td>\n",
              "      <td>460.958492</td>\n",
              "      <td>478.567003</td>\n",
              "      <td>465.582742</td>\n",
              "      <td>483.506577</td>\n",
              "      <td>469.124540</td>\n",
              "      <td>470.186187</td>\n",
              "      <td>476.353288</td>\n",
              "      <td>485.226637</td>\n",
              "      <td>...</td>\n",
              "      <td>481.039294</td>\n",
              "      <td>477.215537</td>\n",
              "      <td>465.771555</td>\n",
              "      <td>454.631425</td>\n",
              "      <td>475.926968</td>\n",
              "      <td>466.878270</td>\n",
              "      <td>493.204849</td>\n",
              "      <td>476.350206</td>\n",
              "      <td>477.850141</td>\n",
              "      <td>475.454874</td>\n",
              "    </tr>\n",
              "    <tr>\n",
              "      <th>3</th>\n",
              "      <td>484.769324</td>\n",
              "      <td>457.764181</td>\n",
              "      <td>459.140111</td>\n",
              "      <td>472.619031</td>\n",
              "      <td>462.602443</td>\n",
              "      <td>482.435967</td>\n",
              "      <td>476.155397</td>\n",
              "      <td>467.151716</td>\n",
              "      <td>481.063416</td>\n",
              "      <td>487.661470</td>\n",
              "      <td>...</td>\n",
              "      <td>472.131475</td>\n",
              "      <td>478.131446</td>\n",
              "      <td>466.550928</td>\n",
              "      <td>451.623980</td>\n",
              "      <td>478.210631</td>\n",
              "      <td>459.500838</td>\n",
              "      <td>499.351946</td>\n",
              "      <td>485.157101</td>\n",
              "      <td>481.887622</td>\n",
              "      <td>469.236129</td>\n",
              "    </tr>\n",
              "    <tr>\n",
              "      <th>4</th>\n",
              "      <td>486.268795</td>\n",
              "      <td>463.908214</td>\n",
              "      <td>464.073920</td>\n",
              "      <td>472.503184</td>\n",
              "      <td>465.032108</td>\n",
              "      <td>482.151831</td>\n",
              "      <td>475.946004</td>\n",
              "      <td>470.169303</td>\n",
              "      <td>488.893143</td>\n",
              "      <td>476.817131</td>\n",
              "      <td>...</td>\n",
              "      <td>479.423359</td>\n",
              "      <td>475.242005</td>\n",
              "      <td>467.757216</td>\n",
              "      <td>454.813840</td>\n",
              "      <td>487.141631</td>\n",
              "      <td>458.917082</td>\n",
              "      <td>496.693323</td>\n",
              "      <td>482.739824</td>\n",
              "      <td>484.171658</td>\n",
              "      <td>461.704849</td>\n",
              "    </tr>\n",
              "    <tr>\n",
              "      <th>...</th>\n",
              "      <td>...</td>\n",
              "      <td>...</td>\n",
              "      <td>...</td>\n",
              "      <td>...</td>\n",
              "      <td>...</td>\n",
              "      <td>...</td>\n",
              "      <td>...</td>\n",
              "      <td>...</td>\n",
              "      <td>...</td>\n",
              "      <td>...</td>\n",
              "      <td>...</td>\n",
              "      <td>...</td>\n",
              "      <td>...</td>\n",
              "      <td>...</td>\n",
              "      <td>...</td>\n",
              "      <td>...</td>\n",
              "      <td>...</td>\n",
              "      <td>...</td>\n",
              "      <td>...</td>\n",
              "      <td>...</td>\n",
              "      <td>...</td>\n",
              "    </tr>\n",
              "    <tr>\n",
              "      <th>360</th>\n",
              "      <td>422.956387</td>\n",
              "      <td>615.284190</td>\n",
              "      <td>437.511082</td>\n",
              "      <td>448.380501</td>\n",
              "      <td>561.021320</td>\n",
              "      <td>604.221395</td>\n",
              "      <td>450.038738</td>\n",
              "      <td>391.645660</td>\n",
              "      <td>488.373149</td>\n",
              "      <td>789.934888</td>\n",
              "      <td>...</td>\n",
              "      <td>441.835794</td>\n",
              "      <td>401.982101</td>\n",
              "      <td>314.254592</td>\n",
              "      <td>417.488798</td>\n",
              "      <td>444.940936</td>\n",
              "      <td>608.734682</td>\n",
              "      <td>574.066790</td>\n",
              "      <td>411.522197</td>\n",
              "      <td>452.335085</td>\n",
              "      <td>528.918124</td>\n",
              "    </tr>\n",
              "    <tr>\n",
              "      <th>361</th>\n",
              "      <td>435.613802</td>\n",
              "      <td>622.972687</td>\n",
              "      <td>442.391957</td>\n",
              "      <td>445.435269</td>\n",
              "      <td>555.386336</td>\n",
              "      <td>601.994376</td>\n",
              "      <td>457.699689</td>\n",
              "      <td>393.043789</td>\n",
              "      <td>487.585979</td>\n",
              "      <td>792.628744</td>\n",
              "      <td>...</td>\n",
              "      <td>437.490321</td>\n",
              "      <td>401.872524</td>\n",
              "      <td>312.852548</td>\n",
              "      <td>422.160200</td>\n",
              "      <td>443.074890</td>\n",
              "      <td>614.807899</td>\n",
              "      <td>577.538623</td>\n",
              "      <td>405.091582</td>\n",
              "      <td>444.908663</td>\n",
              "      <td>537.876566</td>\n",
              "    </tr>\n",
              "    <tr>\n",
              "      <th>362</th>\n",
              "      <td>433.263211</td>\n",
              "      <td>614.243579</td>\n",
              "      <td>441.988434</td>\n",
              "      <td>450.476104</td>\n",
              "      <td>553.605365</td>\n",
              "      <td>612.623133</td>\n",
              "      <td>463.545026</td>\n",
              "      <td>393.220761</td>\n",
              "      <td>490.918646</td>\n",
              "      <td>792.117667</td>\n",
              "      <td>...</td>\n",
              "      <td>437.561657</td>\n",
              "      <td>404.942388</td>\n",
              "      <td>310.433764</td>\n",
              "      <td>423.997858</td>\n",
              "      <td>442.382417</td>\n",
              "      <td>612.373475</td>\n",
              "      <td>569.128972</td>\n",
              "      <td>401.254544</td>\n",
              "      <td>438.392612</td>\n",
              "      <td>541.628650</td>\n",
              "    </tr>\n",
              "    <tr>\n",
              "      <th>363</th>\n",
              "      <td>429.331260</td>\n",
              "      <td>609.297179</td>\n",
              "      <td>444.290148</td>\n",
              "      <td>452.205738</td>\n",
              "      <td>554.731710</td>\n",
              "      <td>609.749172</td>\n",
              "      <td>465.565035</td>\n",
              "      <td>392.565703</td>\n",
              "      <td>483.281764</td>\n",
              "      <td>785.271730</td>\n",
              "      <td>...</td>\n",
              "      <td>442.423708</td>\n",
              "      <td>399.203547</td>\n",
              "      <td>312.742538</td>\n",
              "      <td>420.960904</td>\n",
              "      <td>436.953789</td>\n",
              "      <td>610.112453</td>\n",
              "      <td>577.177591</td>\n",
              "      <td>406.809731</td>\n",
              "      <td>442.815837</td>\n",
              "      <td>541.173345</td>\n",
              "    </tr>\n",
              "    <tr>\n",
              "      <th>364</th>\n",
              "      <td>429.981258</td>\n",
              "      <td>605.379281</td>\n",
              "      <td>445.533767</td>\n",
              "      <td>449.514873</td>\n",
              "      <td>553.615487</td>\n",
              "      <td>626.788955</td>\n",
              "      <td>474.672839</td>\n",
              "      <td>397.012116</td>\n",
              "      <td>481.318710</td>\n",
              "      <td>797.145232</td>\n",
              "      <td>...</td>\n",
              "      <td>448.485176</td>\n",
              "      <td>399.816135</td>\n",
              "      <td>308.079376</td>\n",
              "      <td>412.402931</td>\n",
              "      <td>440.575164</td>\n",
              "      <td>604.317017</td>\n",
              "      <td>587.875130</td>\n",
              "      <td>408.486035</td>\n",
              "      <td>446.819581</td>\n",
              "      <td>547.735422</td>\n",
              "    </tr>\n",
              "  </tbody>\n",
              "</table>\n",
              "<p>365 rows × 30000 columns</p>\n",
              "</div>"
            ],
            "text/plain": [
              "          0           1           2           3           4           5      \\\n",
              "0    474.054555  463.891015  463.204822  475.122814  471.013489  472.228389   \n",
              "1    477.065648  456.488978  462.921737  475.473649  464.367649  474.406852   \n",
              "2    484.795551  451.353018  460.958492  478.567003  465.582742  483.506577   \n",
              "3    484.769324  457.764181  459.140111  472.619031  462.602443  482.435967   \n",
              "4    486.268795  463.908214  464.073920  472.503184  465.032108  482.151831   \n",
              "..          ...         ...         ...         ...         ...         ...   \n",
              "360  422.956387  615.284190  437.511082  448.380501  561.021320  604.221395   \n",
              "361  435.613802  622.972687  442.391957  445.435269  555.386336  601.994376   \n",
              "362  433.263211  614.243579  441.988434  450.476104  553.605365  612.623133   \n",
              "363  429.331260  609.297179  444.290148  452.205738  554.731710  609.749172   \n",
              "364  429.981258  605.379281  445.533767  449.514873  553.615487  626.788955   \n",
              "\n",
              "          6           7           8           9      ...       29990  \\\n",
              "0    467.579699  468.196467  468.233326  479.078139  ...  479.872499   \n",
              "1    466.120301  471.517326  475.332194  481.693581  ...  487.773972   \n",
              "2    469.124540  470.186187  476.353288  485.226637  ...  481.039294   \n",
              "3    476.155397  467.151716  481.063416  487.661470  ...  472.131475   \n",
              "4    475.946004  470.169303  488.893143  476.817131  ...  479.423359   \n",
              "..          ...         ...         ...         ...  ...         ...   \n",
              "360  450.038738  391.645660  488.373149  789.934888  ...  441.835794   \n",
              "361  457.699689  393.043789  487.585979  792.628744  ...  437.490321   \n",
              "362  463.545026  393.220761  490.918646  792.117667  ...  437.561657   \n",
              "363  465.565035  392.565703  483.281764  785.271730  ...  442.423708   \n",
              "364  474.672839  397.012116  481.318710  797.145232  ...  448.485176   \n",
              "\n",
              "          29991       29992       29993       29994       29995       29996  \\\n",
              "0    475.804422  472.478541  469.332010  473.769460  472.114247  477.983418   \n",
              "1    473.333356  466.472379  457.937119  471.813619  469.974148  487.038099   \n",
              "2    477.215537  465.771555  454.631425  475.926968  466.878270  493.204849   \n",
              "3    478.131446  466.550928  451.623980  478.210631  459.500838  499.351946   \n",
              "4    475.242005  467.757216  454.813840  487.141631  458.917082  496.693323   \n",
              "..          ...         ...         ...         ...         ...         ...   \n",
              "360  401.982101  314.254592  417.488798  444.940936  608.734682  574.066790   \n",
              "361  401.872524  312.852548  422.160200  443.074890  614.807899  577.538623   \n",
              "362  404.942388  310.433764  423.997858  442.382417  612.373475  569.128972   \n",
              "363  399.203547  312.742538  420.960904  436.953789  610.112453  577.177591   \n",
              "364  399.816135  308.079376  412.402931  440.575164  604.317017  587.875130   \n",
              "\n",
              "          29997       29998       29999  \n",
              "0    474.594621  474.725363  471.915865  \n",
              "1    476.785174  478.396085  472.494875  \n",
              "2    476.350206  477.850141  475.454874  \n",
              "3    485.157101  481.887622  469.236129  \n",
              "4    482.739824  484.171658  461.704849  \n",
              "..          ...         ...         ...  \n",
              "360  411.522197  452.335085  528.918124  \n",
              "361  405.091582  444.908663  537.876566  \n",
              "362  401.254544  438.392612  541.628650  \n",
              "363  406.809731  442.815837  541.173345  \n",
              "364  408.486035  446.819581  547.735422  \n",
              "\n",
              "[365 rows x 30000 columns]"
            ]
          },
          "execution_count": 50,
          "metadata": {},
          "output_type": "execute_result"
        }
      ],
      "source": [
        "S0 = data[-1]\n",
        "lista = []\n",
        "lista_s0 = [S0]\n",
        "\n",
        "for i in range(365):\n",
        "    \n",
        "    T = 1/365\n",
        "    Z = np.random.normal(0, 1, num_simulations)  # Generación de números aleatorios para la simulación de Monte Carlo\n",
        "    St = S0 * np.exp((r - 0.5 * sigma**2) * T + sigma * np.sqrt(T) * Z)  # Cálculo de los precios simulados para el activo subyacente\n",
        "    \n",
        "    lista_s0.append(St)\n",
        "    S0 = lista_s0[-1]\n",
        "    \n",
        "    lista.append(St)\n",
        "\n",
        "df_precios_diarios_sim = pd.DataFrame(lista)\n",
        "df_precios_diarios_sim"
      ]
    },
    {
      "cell_type": "code",
      "execution_count": 51,
      "id": "6d8220bd",
      "metadata": {},
      "outputs": [
        {
          "data": {
            "text/plain": [
              "0        472.816968\n",
              "1        522.590071\n",
              "2        444.770279\n",
              "3        456.111064\n",
              "4        504.269298\n",
              "            ...    \n",
              "29995    486.881592\n",
              "29996    531.808122\n",
              "29997    431.199031\n",
              "29998    486.487131\n",
              "29999    438.553897\n",
              "Length: 30000, dtype: float64"
            ]
          },
          "execution_count": 51,
          "metadata": {},
          "output_type": "execute_result"
        }
      ],
      "source": [
        "media_trayectorias = df_precios_diarios_sim.mean()\n",
        "media_trayectorias"
      ]
    },
    {
      "cell_type": "markdown",
      "id": "65303bf0",
      "metadata": {
        "id": "65303bf0"
      },
      "source": [
        "**Cálculo del pago de las opciones para cada una de las trayectorias simuladas**\n",
        "\n",
        "Estas líneas de código se utilizan para calcular el pago de una opción de compra (call) y una opción de venta (put) respectivamente, a partir de los precios simulados del activo subyacente.\n",
        "\n",
        "La primera línea de código utiliza la función \"np.maximum\" para calcular el pago de la opción de compra. La función \"np.maximum\" toma dos argumentos: los precios simulados del activo subyacente (St) y el precio de ejercicio de la opción de compra (K). La función devuelve el valor máximo entre la diferencia entre los precios simulados del activo subyacente y el precio de ejercicio (St - K) y cero. Esto asegura que el pago de la opción de compra siempre sea cero si el precio del activo subyacente en el futuro es menor que el precio de ejercicio, y de lo contrario, sea igual a la diferencia entre el precio simulado del activo subyacente y el precio de ejercicio.\n",
        "\n",
        "La segunda línea de código utiliza la misma función \"np.maximum\" para calcular el pago de la opción de venta. En este caso, la función devuelve el valor máximo entre la diferencia entre el precio de ejercicio y los precios simulados del activo subyacente (K - St) y cero. Esto asegura que el pago de la opción de venta siempre sea cero si el precio del activo subyacente en el futuro es mayor que el precio de ejercicio, y de lo contrario, sea igual a la diferencia entre el precio de ejercicio y el precio simulado del activo subyacente."
      ]
    },
    {
      "cell_type": "code",
      "execution_count": 52,
      "id": "3271297b",
      "metadata": {
        "id": "3271297b"
      },
      "outputs": [],
      "source": [
        "\n",
        "call_payoff = np.maximum(media_trayectorias - K, 0)  # Pago de la opción de compra (call)\n",
        "put_payoff = np.maximum(K - media_trayectorias, 0)  # Pago de la opción de venta (put)m"
      ]
    },
    {
      "cell_type": "code",
      "execution_count": 53,
      "id": "45d97557",
      "metadata": {
        "colab": {
          "base_uri": "https://localhost:8080/"
        },
        "id": "45d97557",
        "outputId": "186d8e76-c67e-45ac-d0ad-889d94a7a3bd"
      },
      "outputs": [
        {
          "data": {
            "text/plain": [
              "9.61546138148593"
            ]
          },
          "execution_count": 53,
          "metadata": {},
          "output_type": "execute_result"
        }
      ],
      "source": [
        "call_payoff.mean()"
      ]
    },
    {
      "cell_type": "code",
      "execution_count": 54,
      "id": "561b99f7",
      "metadata": {
        "colab": {
          "base_uri": "https://localhost:8080/"
        },
        "id": "561b99f7",
        "outputId": "989f7ca0-02d3-413a-e3dd-66e652a96396"
      },
      "outputs": [
        {
          "data": {
            "text/plain": [
              "44.816944762504114"
            ]
          },
          "execution_count": 54,
          "metadata": {},
          "output_type": "execute_result"
        }
      ],
      "source": [
        "put_payoff.mean()"
      ]
    },
    {
      "cell_type": "markdown",
      "id": "d531c650",
      "metadata": {
        "id": "d531c650"
      },
      "source": [
        "**Cálculo del valor presente de las opciones mediante la obtención del promedio de los pagos de las opciones y su descontado a su valor presente**"
      ]
    },
    {
      "cell_type": "markdown",
      "id": "06e821b7",
      "metadata": {
        "id": "06e821b7"
      },
      "source": [
        "Estas líneas de código se utilizan para calcular el valor presente de una opción de compra (call) y una opción de venta (put), respectivamente, a partir de los pagos de opciones calculados previamente y teniendo en cuenta la tasa de interés libre de riesgo.\n",
        "\n",
        "La primera línea de código utiliza la fórmula de valor presente para calcular el valor presente de la opción de compra. La fórmula tiene en cuenta el pago de la opción de compra calculado previamente (call_payoff), la tasa de interés libre de riesgo (r) y el tiempo hasta el vencimiento de la opción (T). La función \"np.mean\" se utiliza para calcular la media aritmética de los pagos de opciones. Luego, se multiplica el valor promedio de los pagos de opciones por el factor de descuento del valor presente (np.exp(-r * T)) para obtener el valor presente de la opción de compra.\n",
        "\n",
        "La segunda línea de código utiliza la misma fórmula de valor presente para calcular el valor presente de la opción de venta. En este caso, se utiliza el pago de la opción de venta calculado previamente (put_payoff) en lugar del pago de la opción de compra. Se utiliza la misma función \"np.mean\" para calcular la media aritmética de los pagos de opciones, y luego se multiplica por el factor de descuento del valor presente (np.exp(-r * T)) para obtener el valor presente de la opción de venta."
      ]
    },
    {
      "cell_type": "code",
      "execution_count": 55,
      "id": "dcb61ee6",
      "metadata": {
        "id": "dcb61ee6"
      },
      "outputs": [],
      "source": [
        "T = 365/365\n",
        "call_value = np.exp(-r * T) * np.mean(call_payoff)  # Valor presente de la opción de compra (call)\n",
        "put_value = np.exp(-r * T) * np.mean(put_payoff)  # Valor presente de la opción de venta (put)"
      ]
    },
    {
      "cell_type": "markdown",
      "id": "df1f79c1",
      "metadata": {
        "id": "df1f79c1"
      },
      "source": [
        "**Impresión de los resultados de la valuación de las opciones**"
      ]
    },
    {
      "cell_type": "code",
      "execution_count": 56,
      "id": "d8a01e52",
      "metadata": {
        "colab": {
          "base_uri": "https://localhost:8080/"
        },
        "id": "d8a01e52",
        "outputId": "fb94862e-9938-43b1-ffc5-02162060c7da"
      },
      "outputs": [
        {
          "name": "stdout",
          "output_type": "stream",
          "text": [
            "Valor de la opción call: 9.1465\n",
            "Valor de la opción put: 42.63\n"
          ]
        }
      ],
      "source": [
        "print(f\"Valor de la opción call: {call_value:.4f}\")\n",
        "print(f\"Valor de la opción put: {put_value:.2f}\")"
      ]
    }
  ],
  "metadata": {
    "colab": {
      "provenance": []
    },
    "kernelspec": {
      "display_name": "Python 3 (ipykernel)",
      "language": "python",
      "name": "python3"
    },
    "language_info": {
      "codemirror_mode": {
        "name": "ipython",
        "version": 3
      },
      "file_extension": ".py",
      "mimetype": "text/x-python",
      "name": "python",
      "nbconvert_exporter": "python",
      "pygments_lexer": "ipython3",
      "version": "3.10.2"
    }
  },
  "nbformat": 4,
  "nbformat_minor": 5
}
